{
 "cells": [
  {
   "cell_type": "code",
   "execution_count": 1,
   "id": "a95793b8",
   "metadata": {},
   "outputs": [],
   "source": [
    "# example of calculating the frechet inception distance\n",
    "import numpy\n",
    "from numpy import cov\n",
    "from numpy import trace\n",
    "from numpy import iscomplexobj\n",
    "from numpy.random import random\n",
    "from scipy.linalg import sqrtm\n",
    "import cv2 as cv\n",
    "from os import listdir "
   ]
  },
  {
   "cell_type": "code",
   "execution_count": 2,
   "id": "5b801700",
   "metadata": {},
   "outputs": [],
   "source": [
    "# calculate frechet inception distance\n",
    "def calculate_fid(act1, act2):\n",
    "    # calculate mean and covariance statistics\n",
    "    mu1, sigma1 = act1.mean(axis=0), cov(act1, rowvar=False)\n",
    "    mu2, sigma2 = act2.mean(axis=0), cov(act2, rowvar=False)\n",
    "    # calculate sum squared difference between means\n",
    "    ssdiff = numpy.sum((mu1 - mu2)**2.0)\n",
    "    # calculate sqrt of product between cov\n",
    "    covmean = sqrtm(sigma1.dot(sigma2))\n",
    "    # check and correct imaginary numbers from sqrt\n",
    "    if iscomplexobj(covmean):\n",
    "        covmean = covmean.real\n",
    "    # calculate score\n",
    "    fid = ssdiff + trace(sigma1 + sigma2 - 2.0 * covmean)\n",
    "    fid=abs(fid)\n",
    "    return fid"
   ]
  },
  {
   "cell_type": "code",
   "execution_count": 3,
   "id": "d4224b53",
   "metadata": {},
   "outputs": [],
   "source": [
    "def getFID(paint, foto, n):\n",
    "    avg_fid=0\n",
    "    for img in paint:\n",
    "        img=cv.imread(img)\n",
    "        img = cv.cvtColor(img, cv.COLOR_BGR2GRAY)\n",
    "        img=img/255\n",
    "        min_fid=None\n",
    "        for imr in foto:\n",
    "            imr=cv.imread(imr)\n",
    "            imr=cv.cvtColor(imr, cv.COLOR_BGR2GRAY)\n",
    "            imr=imr/255\n",
    "            fid=calculate_fid(img, imr)\n",
    "            if(min_fid==None or fid<min_fid):\n",
    "                min_fid=fid\n",
    "        avg_fid+=min_fid\n",
    "    avg_fid/=n\n",
    "    return avg_fid"
   ]
  },
  {
   "cell_type": "code",
   "execution_count": 4,
   "id": "fa25c2f9",
   "metadata": {},
   "outputs": [],
   "source": [
    "def getImg(path):\n",
    "    image=[]\n",
    "    folder=listdir(path)\n",
    "    for img in folder:\n",
    "        if(img!='.DS_Store'):\n",
    "            item=path+\"/\"+img\n",
    "            image.append(item)\n",
    "    #print(image)\n",
    "    return image"
   ]
  },
  {
   "cell_type": "code",
   "execution_count": 5,
   "id": "b5f2e1e0",
   "metadata": {},
   "outputs": [
    {
     "name": "stdout",
     "output_type": "stream",
     "text": [
      "net:10.442\n"
     ]
    }
   ],
   "source": [
    "paint=getImg('finish')\n",
    "foto=getImg('result_resized')\n",
    "print('net:%.3f'%getFID(paint, foto, 60))"
   ]
  },
  {
   "cell_type": "code",
   "execution_count": 6,
   "id": "36d51162",
   "metadata": {},
   "outputs": [
    {
     "name": "stdout",
     "output_type": "stream",
     "text": [
      "baseline:6.914\n"
     ]
    }
   ],
   "source": [
    "paint=getImg('finish_1')\n",
    "foto=getImg('finish_2')\n",
    "print('baseline:%.3f'%getFID(paint, foto, 30))"
   ]
  },
  {
   "cell_type": "code",
   "execution_count": 12,
   "id": "d1bb8af2",
   "metadata": {},
   "outputs": [],
   "source": [
    "def getFID_2(paint, foto):\n",
    "    a=0\n",
    "    for img in paint:\n",
    "        a=a+1\n",
    "        img=cv.imread(img)\n",
    "        img = cv.cvtColor(img, cv.COLOR_BGR2GRAY)\n",
    "        img=img/255\n",
    "        b=0\n",
    "        for imr in foto:\n",
    "            b=b+1\n",
    "            imr=cv.imread(imr)\n",
    "            imr=cv.cvtColor(imr, cv.COLOR_BGR2GRAY)\n",
    "            imr=imr/255\n",
    "            fid=calculate_fid(img, imr)\n",
    "            if(fid>9 and fid<11):\n",
    "                print(a, b)"
   ]
  },
  {
   "cell_type": "code",
   "execution_count": 13,
   "id": "07129e35",
   "metadata": {},
   "outputs": [
    {
     "name": "stdout",
     "output_type": "stream",
     "text": [
      "9 4\n",
      "11 2\n",
      "11 12\n",
      "11 27\n",
      "13 2\n",
      "14 17\n",
      "15 10\n",
      "17 2\n",
      "17 10\n",
      "19 20\n",
      "19 23\n",
      "20 25\n",
      "21 12\n",
      "22 28\n",
      "24 2\n"
     ]
    },
    {
     "ename": "KeyboardInterrupt",
     "evalue": "",
     "output_type": "error",
     "traceback": [
      "\u001b[0;31m---------------------------------------------------------------------------\u001b[0m",
      "\u001b[0;31mKeyboardInterrupt\u001b[0m                         Traceback (most recent call last)",
      "\u001b[0;32m/var/folders/f5/dfb88_715nlg8z24_z1h502c0000gn/T/ipykernel_62097/351155287.py\u001b[0m in \u001b[0;36m<module>\u001b[0;34m\u001b[0m\n\u001b[1;32m      1\u001b[0m \u001b[0mpaint\u001b[0m\u001b[0;34m=\u001b[0m\u001b[0mgetImg\u001b[0m\u001b[0;34m(\u001b[0m\u001b[0;34m'finish'\u001b[0m\u001b[0;34m)\u001b[0m\u001b[0;34m\u001b[0m\u001b[0;34m\u001b[0m\u001b[0m\n\u001b[1;32m      2\u001b[0m \u001b[0mfoto\u001b[0m\u001b[0;34m=\u001b[0m\u001b[0mgetImg\u001b[0m\u001b[0;34m(\u001b[0m\u001b[0;34m'result_resized'\u001b[0m\u001b[0;34m)\u001b[0m\u001b[0;34m\u001b[0m\u001b[0;34m\u001b[0m\u001b[0m\n\u001b[0;32m----> 3\u001b[0;31m \u001b[0mprint\u001b[0m\u001b[0;34m(\u001b[0m\u001b[0;34m'net:%.3f'\u001b[0m\u001b[0;34m%\u001b[0m\u001b[0mgetFID_2\u001b[0m\u001b[0;34m(\u001b[0m\u001b[0mpaint\u001b[0m\u001b[0;34m,\u001b[0m \u001b[0mfoto\u001b[0m\u001b[0;34m)\u001b[0m\u001b[0;34m)\u001b[0m\u001b[0;34m\u001b[0m\u001b[0;34m\u001b[0m\u001b[0m\n\u001b[0m",
      "\u001b[0;32m/var/folders/f5/dfb88_715nlg8z24_z1h502c0000gn/T/ipykernel_62097/868155117.py\u001b[0m in \u001b[0;36mgetFID_2\u001b[0;34m(paint, foto)\u001b[0m\n\u001b[1;32m     12\u001b[0m             \u001b[0mimr\u001b[0m\u001b[0;34m=\u001b[0m\u001b[0mcv\u001b[0m\u001b[0;34m.\u001b[0m\u001b[0mcvtColor\u001b[0m\u001b[0;34m(\u001b[0m\u001b[0mimr\u001b[0m\u001b[0;34m,\u001b[0m \u001b[0mcv\u001b[0m\u001b[0;34m.\u001b[0m\u001b[0mCOLOR_BGR2GRAY\u001b[0m\u001b[0;34m)\u001b[0m\u001b[0;34m\u001b[0m\u001b[0;34m\u001b[0m\u001b[0m\n\u001b[1;32m     13\u001b[0m             \u001b[0mimr\u001b[0m\u001b[0;34m=\u001b[0m\u001b[0mimr\u001b[0m\u001b[0;34m/\u001b[0m\u001b[0;36m255\u001b[0m\u001b[0;34m\u001b[0m\u001b[0;34m\u001b[0m\u001b[0m\n\u001b[0;32m---> 14\u001b[0;31m             \u001b[0mfid\u001b[0m\u001b[0;34m=\u001b[0m\u001b[0mcalculate_fid\u001b[0m\u001b[0;34m(\u001b[0m\u001b[0mimg\u001b[0m\u001b[0;34m,\u001b[0m \u001b[0mimr\u001b[0m\u001b[0;34m)\u001b[0m\u001b[0;34m\u001b[0m\u001b[0;34m\u001b[0m\u001b[0m\n\u001b[0m\u001b[1;32m     15\u001b[0m             \u001b[0;32mif\u001b[0m\u001b[0;34m(\u001b[0m\u001b[0mfid\u001b[0m\u001b[0;34m>\u001b[0m\u001b[0;36m9\u001b[0m \u001b[0;32mand\u001b[0m \u001b[0mfid\u001b[0m\u001b[0;34m<\u001b[0m\u001b[0;36m11\u001b[0m\u001b[0;34m)\u001b[0m\u001b[0;34m:\u001b[0m\u001b[0;34m\u001b[0m\u001b[0;34m\u001b[0m\u001b[0m\n\u001b[1;32m     16\u001b[0m                 \u001b[0mprint\u001b[0m\u001b[0;34m(\u001b[0m\u001b[0ma\u001b[0m\u001b[0;34m,\u001b[0m \u001b[0mb\u001b[0m\u001b[0;34m)\u001b[0m\u001b[0;34m\u001b[0m\u001b[0;34m\u001b[0m\u001b[0m\n",
      "\u001b[0;32m/var/folders/f5/dfb88_715nlg8z24_z1h502c0000gn/T/ipykernel_62097/3988574267.py\u001b[0m in \u001b[0;36mcalculate_fid\u001b[0;34m(act1, act2)\u001b[0m\n\u001b[1;32m      7\u001b[0m     \u001b[0mssdiff\u001b[0m \u001b[0;34m=\u001b[0m \u001b[0mnumpy\u001b[0m\u001b[0;34m.\u001b[0m\u001b[0msum\u001b[0m\u001b[0;34m(\u001b[0m\u001b[0;34m(\u001b[0m\u001b[0mmu1\u001b[0m \u001b[0;34m-\u001b[0m \u001b[0mmu2\u001b[0m\u001b[0;34m)\u001b[0m\u001b[0;34m**\u001b[0m\u001b[0;36m2.0\u001b[0m\u001b[0;34m)\u001b[0m\u001b[0;34m\u001b[0m\u001b[0;34m\u001b[0m\u001b[0m\n\u001b[1;32m      8\u001b[0m     \u001b[0;31m# calculate sqrt of product between cov\u001b[0m\u001b[0;34m\u001b[0m\u001b[0;34m\u001b[0m\u001b[0m\n\u001b[0;32m----> 9\u001b[0;31m     \u001b[0mcovmean\u001b[0m \u001b[0;34m=\u001b[0m \u001b[0msqrtm\u001b[0m\u001b[0;34m(\u001b[0m\u001b[0msigma1\u001b[0m\u001b[0;34m.\u001b[0m\u001b[0mdot\u001b[0m\u001b[0;34m(\u001b[0m\u001b[0msigma2\u001b[0m\u001b[0;34m)\u001b[0m\u001b[0;34m)\u001b[0m\u001b[0;34m\u001b[0m\u001b[0;34m\u001b[0m\u001b[0m\n\u001b[0m\u001b[1;32m     10\u001b[0m     \u001b[0;31m# check and correct imaginary numbers from sqrt\u001b[0m\u001b[0;34m\u001b[0m\u001b[0;34m\u001b[0m\u001b[0m\n\u001b[1;32m     11\u001b[0m     \u001b[0;32mif\u001b[0m \u001b[0miscomplexobj\u001b[0m\u001b[0;34m(\u001b[0m\u001b[0mcovmean\u001b[0m\u001b[0;34m)\u001b[0m\u001b[0;34m:\u001b[0m\u001b[0;34m\u001b[0m\u001b[0;34m\u001b[0m\u001b[0m\n",
      "\u001b[0;32m~/opt/anaconda3/lib/python3.9/site-packages/scipy/linalg/_matfuncs_sqrtm.py\u001b[0m in \u001b[0;36msqrtm\u001b[0;34m(A, disp, blocksize)\u001b[0m\n\u001b[1;32m    163\u001b[0m     \u001b[0mkeep_it_real\u001b[0m \u001b[0;34m=\u001b[0m \u001b[0mnp\u001b[0m\u001b[0;34m.\u001b[0m\u001b[0misrealobj\u001b[0m\u001b[0;34m(\u001b[0m\u001b[0mA\u001b[0m\u001b[0;34m)\u001b[0m\u001b[0;34m\u001b[0m\u001b[0;34m\u001b[0m\u001b[0m\n\u001b[1;32m    164\u001b[0m     \u001b[0;32mif\u001b[0m \u001b[0mkeep_it_real\u001b[0m\u001b[0;34m:\u001b[0m\u001b[0;34m\u001b[0m\u001b[0;34m\u001b[0m\u001b[0m\n\u001b[0;32m--> 165\u001b[0;31m         \u001b[0mT\u001b[0m\u001b[0;34m,\u001b[0m \u001b[0mZ\u001b[0m \u001b[0;34m=\u001b[0m \u001b[0mschur\u001b[0m\u001b[0;34m(\u001b[0m\u001b[0mA\u001b[0m\u001b[0;34m)\u001b[0m\u001b[0;34m\u001b[0m\u001b[0;34m\u001b[0m\u001b[0m\n\u001b[0m\u001b[1;32m    166\u001b[0m         \u001b[0;32mif\u001b[0m \u001b[0;32mnot\u001b[0m \u001b[0mnp\u001b[0m\u001b[0;34m.\u001b[0m\u001b[0marray_equal\u001b[0m\u001b[0;34m(\u001b[0m\u001b[0mT\u001b[0m\u001b[0;34m,\u001b[0m \u001b[0mnp\u001b[0m\u001b[0;34m.\u001b[0m\u001b[0mtriu\u001b[0m\u001b[0;34m(\u001b[0m\u001b[0mT\u001b[0m\u001b[0;34m)\u001b[0m\u001b[0;34m)\u001b[0m\u001b[0;34m:\u001b[0m\u001b[0;34m\u001b[0m\u001b[0;34m\u001b[0m\u001b[0m\n\u001b[1;32m    167\u001b[0m             \u001b[0mT\u001b[0m\u001b[0;34m,\u001b[0m \u001b[0mZ\u001b[0m \u001b[0;34m=\u001b[0m \u001b[0mrsf2csf\u001b[0m\u001b[0;34m(\u001b[0m\u001b[0mT\u001b[0m\u001b[0;34m,\u001b[0m \u001b[0mZ\u001b[0m\u001b[0;34m)\u001b[0m\u001b[0;34m\u001b[0m\u001b[0;34m\u001b[0m\u001b[0m\n",
      "\u001b[0;32m~/opt/anaconda3/lib/python3.9/site-packages/scipy/linalg/decomp_schur.py\u001b[0m in \u001b[0;36mschur\u001b[0;34m(a, output, lwork, overwrite_a, sort, check_finite)\u001b[0m\n\u001b[1;32m    156\u001b[0m                              \"callable, or one of ('lhp','rhp','iuc','ouc')\")\n\u001b[1;32m    157\u001b[0m \u001b[0;34m\u001b[0m\u001b[0m\n\u001b[0;32m--> 158\u001b[0;31m     result = gees(sfunction, a1, lwork=lwork, overwrite_a=overwrite_a,\n\u001b[0m\u001b[1;32m    159\u001b[0m                   sort_t=sort_t)\n\u001b[1;32m    160\u001b[0m \u001b[0;34m\u001b[0m\u001b[0m\n",
      "\u001b[0;31mKeyboardInterrupt\u001b[0m: "
     ]
    }
   ],
   "source": [
    "paint=getImg('finish')\n",
    "foto=getImg('result_resized')\n",
    "print('net:%.3f'%getFID_2(paint, foto))"
   ]
  },
  {
   "cell_type": "code",
   "execution_count": 14,
   "id": "41bfcec3",
   "metadata": {},
   "outputs": [
    {
     "name": "stdout",
     "output_type": "stream",
     "text": [
      "FID:9.682\n"
     ]
    }
   ],
   "source": [
    "a=cv.imread(\"finish/35.jpg\")\n",
    "a=cv.cvtColor(a, cv.COLOR_BGR2GRAY)\n",
    "a=a/255\n",
    "\n",
    "b=cv.imread(\"result_resized/image (5).png\")\n",
    "b=cv.cvtColor(b, cv.COLOR_BGR2GRAY)\n",
    "b=b/255\n",
    "\n",
    "fid=calculate_fid(a, b)\n",
    "print('FID:%.3f'%fid)"
   ]
  },
  {
   "cell_type": "code",
   "execution_count": null,
   "id": "3dedd7c5",
   "metadata": {},
   "outputs": [],
   "source": []
  }
 ],
 "metadata": {
  "kernelspec": {
   "display_name": "Python 3 (ipykernel)",
   "language": "python",
   "name": "python3"
  },
  "language_info": {
   "codemirror_mode": {
    "name": "ipython",
    "version": 3
   },
   "file_extension": ".py",
   "mimetype": "text/x-python",
   "name": "python",
   "nbconvert_exporter": "python",
   "pygments_lexer": "ipython3",
   "version": "3.9.7"
  }
 },
 "nbformat": 4,
 "nbformat_minor": 5
}
